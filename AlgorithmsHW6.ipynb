{
 "cells": [
  {
   "cell_type": "code",
   "execution_count": 58,
   "metadata": {},
   "outputs": [],
   "source": [
    "import numpy.random as randy"
   ]
  },
  {
   "cell_type": "code",
   "execution_count": 64,
   "metadata": {},
   "outputs": [],
   "source": [
    "#Min Palindrome without Memoization\n",
    "\n",
    "def MinPalindromeIns(s,i,j,table = None):\n",
    "    if len(s) <= 1: #Trivial case check\n",
    "        return s,0\n",
    "    else: \n",
    "        if i > j: #Base case where the two indicies run into each other or pass each other\n",
    "            return \"\",0\n",
    "        elif i==j: #Indicies are equal to each other\n",
    "            return s[i],0\n",
    "        else: #Indicies are far apart from each other\n",
    "            if s[i] == s[j]: #If character is same\n",
    "                string,count = MinPalindromeIns(s,i+1,j-1)\n",
    "                return s[i] + string + s[j],count\n",
    "\n",
    "            else:\n",
    "                #Insert front character\n",
    "                stringFront,countFront = MinPalindromeIns(s,i+1,j)\n",
    "                #Insert back character\n",
    "                stringBack,countBack = MinPalindromeIns(s,i,j-1)\n",
    "\n",
    "                if countFront < countBack:\n",
    "                    #print(\"It does matter\")\n",
    "                    return s[i] + stringFront+s[i],countFront+1\n",
    "                elif countFront == countBack:\n",
    "                    #print(\"It doesnt Matter\")\n",
    "                    return s[i] + stringFront+s[i],countFront+1\n",
    "                else:\n",
    "                    #print(\"It does matter\")\n",
    "                    return s[j]+ stringBack+ s[j],countBack+1"
   ]
  },
  {
   "cell_type": "code",
   "execution_count": 65,
   "metadata": {},
   "outputs": [
    {
     "name": "stdout",
     "output_type": "stream",
     "text": [
      "BREERB: BREERB, 0 insertions\n"
     ]
    }
   ],
   "source": [
    "S = \"BREERB\"\n",
    "\n",
    "SC,SM = MinPalindromeIns(S,0,len(S)-1)\n",
    "print(\"%s: %s, %s insertions\" %(S,SC,SM))"
   ]
  },
  {
   "cell_type": "code",
   "execution_count": 60,
   "metadata": {},
   "outputs": [
    {
     "name": "stdout",
     "output_type": "stream",
     "text": [
      ": , 0 insertions\n",
      "P: P, 0 insertions\n",
      "MOTHER: MOTHEREHTOM, 5 insertions\n",
      "FAMILY: FAMILYLIMAF, 5 insertions\n",
      "BEAKER: BREAKAERB, 3 insertions\n",
      "BARBARIAN: BNAIRBABRIANB, 4 insertions\n"
     ]
    }
   ],
   "source": [
    "S1 = \"\"\n",
    "S2 = \"P\"\n",
    "S3 = \"MOTHER\"\n",
    "S4 = \"FAMILY\"\n",
    "S5 = \"BEAKER\"\n",
    "S6 = \"BARBARIAN\"\n",
    "\n",
    "\n",
    "\n",
    "S1C,S1M = MinPalindromeIns(S1,0,len(S1)-1)\n",
    "print(\"%s: %s, %s insertions\" %(S1,S1C,S1M))\n",
    "\n",
    "S2C,S2M = MinPalindromeIns(S2,0,len(S2)-1)\n",
    "print(\"%s: %s, %s insertions\" %(S2,S2C,S2M))\n",
    "\n",
    "S3C,S3M = MinPalindromeIns(S3,0,len(S3)-1)\n",
    "print(\"%s: %s, %s insertions\" %(S3,S3C,S3M))\n",
    "\n",
    "S4C,S4M = MinPalindromeIns(S4,0,len(S4)-1)\n",
    "print(\"%s: %s, %s insertions\" %(S4,S4C,S4M))\n",
    "\n",
    "S5C,S5M = MinPalindromeIns(S5,0,len(S5)-1)\n",
    "print(\"%s: %s, %s insertions\" %(S5,S5C,S5M))\n",
    "\n",
    "S6C,S6M = MinPalindromeIns(S6,0,len(S6)-1)\n",
    "print(\"%s: %s, %s insertions\" %(S6,S6C,S6M))"
   ]
  },
  {
   "cell_type": "code",
   "execution_count": 91,
   "metadata": {},
   "outputs": [],
   "source": [
    "#Min Palindrome with memoization and reading from memo table\n",
    "\n",
    "def WriteToTable(Table,i,j,string,count):\n",
    "    if Table[i][j] is None:\n",
    "        Table[i][j] = string,count\n",
    "\n",
    "def ReadFromTable(Table,i,j):\n",
    "    return Table[i][j]\n",
    "\n",
    "def MinPalindromeIns(s,i,j,table):\n",
    "    if len(s) <= 1: #Trivial case check\n",
    "        return s,0\n",
    "    else: \n",
    "        Memo = ReadFromTable(table,i,j)\n",
    "        if Memo is not None: #Utilize Memo table to see solved problems\n",
    "            return Memo\n",
    "        else: #No memo is calculated, must calculate the next one\n",
    "            if i > j: #Base case where the two indicies run into each other or pass each other\n",
    "                WriteToTable(table,i,j,\"\",0)\n",
    "                return \"\",0\n",
    "            elif i==j: #Indicies are equal to each other\n",
    "                WriteToTable(table,i,j,s[i],0)\n",
    "                return s[i],0\n",
    "            else: #Indicies are far apart from each other\n",
    "                if s[i] == s[j]: #If character is same\n",
    "                    string,count = MinPalindromeIns(s,i+1,j-1,table)\n",
    "                    WriteToTable(table,i,j,s[i] + string + s[j],count)\n",
    "                    return s[i] + string + s[j],count\n",
    "\n",
    "                else:\n",
    "                    #Insert front character\n",
    "                    stringFront,countFront = MinPalindromeIns(s,i+1,j,table)\n",
    "                    #Insert back character\n",
    "                    stringBack,countBack = MinPalindromeIns(s,i,j-1,table)\n",
    "\n",
    "                    if countFront < countBack:\n",
    "                        #print(\"It does matter\")\n",
    "                        WriteToTable(table,i,j,s[i] + stringFront+s[i],countFront+1)\n",
    "                        return s[i] + stringFront+s[i],countFront+1\n",
    "                    elif countFront == countBack:\n",
    "                        #print(\"It doesnt Matter\")\n",
    "                        WriteToTable(table,i,j,s[i] + stringFront+s[i],countFront+1)\n",
    "                        return s[i] + stringFront+s[i],countFront+1\n",
    "                    else:\n",
    "                        #print(\"It does matter\")\n",
    "                        WriteToTable(table,i,j,s[j]+ stringBack+ s[j],countBack+1)\n",
    "                        return s[j]+ stringBack+ s[j],countBack+1\n",
    "                    \n",
    "            \n",
    "def MemoTablePalindrome(s):\n",
    "    MemoTable = [[None for i in range(len(s))] for j in range(len(s))]\n",
    "    String,Count = MinPalindromeIns(s,0,len(s)-1, MemoTable)\n",
    "    print(\"%s: %s, %s insertions\" %(s,String,Count))\n",
    "    for i in MemoTable:\n",
    "        print(i)\n",
    "\n"
   ]
  },
  {
   "cell_type": "code",
   "execution_count": 92,
   "metadata": {},
   "outputs": [
    {
     "name": "stdout",
     "output_type": "stream",
     "text": [
      ": , 0 insertions\n",
      "P: P, 0 insertions\n",
      "[None]\n",
      "MOTHER: MOTHEREHTOM, 5 insertions\n",
      "[('M', 0), ('MOM', 1), ('MOTOM', 2), ('MOTHTOM', 3), ('MOTHEHTOM', 4), ('MOTHEREHTOM', 5)]\n",
      "[None, ('O', 0), ('OTO', 1), ('OTHTO', 2), ('OTHEHTO', 3), ('OTHEREHTO', 4)]\n",
      "[None, None, ('T', 0), ('THT', 1), ('THEHT', 2), ('THEREHT', 3)]\n",
      "[None, None, None, ('H', 0), ('HEH', 1), ('HEREH', 2)]\n",
      "[None, None, None, None, ('E', 0), ('ERE', 1)]\n",
      "[None, None, None, None, None, ('R', 0)]\n",
      "FAMILY: FAMILYLIMAF, 5 insertions\n",
      "[('F', 0), ('FAF', 1), ('FAMAF', 2), ('FAMIMAF', 3), ('FAMILIMAF', 4), ('FAMILYLIMAF', 5)]\n",
      "[None, ('A', 0), ('AMA', 1), ('AMIMA', 2), ('AMILIMA', 3), ('AMILYLIMA', 4)]\n",
      "[None, None, ('M', 0), ('MIM', 1), ('MILIM', 2), ('MILYLIM', 3)]\n",
      "[None, None, None, ('I', 0), ('ILI', 1), ('ILYLI', 2)]\n",
      "[None, None, None, None, ('L', 0), ('LYL', 1)]\n",
      "[None, None, None, None, None, ('Y', 0)]\n",
      "BEAKER: BREAKAERB, 3 insertions\n",
      "[('B', 0), ('BEB', 1), ('BEAEB', 2), ('BEAKAEB', 3), ('BEAKAEB', 2), ('BREAKAERB', 3)]\n",
      "[None, ('E', 0), ('EAE', 1), ('EAKAE', 2), ('EAKAE', 1), ('REAKAER', 2)]\n",
      "[None, None, ('A', 0), ('AKA', 1), ('AKEKA', 2), ('AKEREKA', 3)]\n",
      "[None, None, None, ('K', 0), ('KEK', 1), ('KEREK', 2)]\n",
      "[None, None, None, None, ('E', 0), ('ERE', 1)]\n",
      "[None, None, None, None, None, ('R', 0)]\n",
      "BARBARIAN: BNAIRBABRIANB, 4 insertions\n",
      "[None, None, None, ('BARAB', 1), ('BARBRAB', 2), ('BARBABRAB', 3), ('BAIRBABRIAB', 4), ('BAIRBABRIAB', 3), ('BNAIRBABRIANB', 4)]\n",
      "[None, ('A', 0), ('ARA', 1), None, ('ARBRA', 1), ('ARBABRA', 2), ('AIRBABRIA', 3), ('AIRBABRIA', 2), ('NAIRBABRIAN', 3)]\n",
      "[None, None, ('R', 0), ('RBR', 1), None, ('RBABR', 1), ('IRBABRI', 2), ('RBARIRABR', 3), ('RBNARIRANBR', 4)]\n",
      "[None, None, None, ('B', 0), ('BAB', 1), ('BARAB', 2), ('BARIRAB', 3), ('BARIRAB', 2), ('BNARIRANB', 3)]\n",
      "[None, None, None, None, ('A', 0), ('ARA', 1), ('ARIRA', 2), ('ARIRA', 1), ('NARIRAN', 2)]\n",
      "[None, None, None, None, None, ('R', 0), ('RIR', 1), ('RIAIR', 2), ('RIANAIR', 3)]\n",
      "[None, None, None, None, None, None, ('I', 0), ('IAI', 1), ('IANAI', 2)]\n",
      "[None, None, None, None, None, None, None, ('A', 0), ('ANA', 1)]\n",
      "[None, None, None, None, None, None, None, None, ('N', 0)]\n"
     ]
    }
   ],
   "source": [
    "S1 = \"\"\n",
    "S2 = \"P\"\n",
    "S3 = \"MOTHER\"\n",
    "S4 = \"FAMILY\"\n",
    "S5 = \"BEAKER\"\n",
    "S6 = \"BARBARIAN\"\n",
    "\n",
    "MemoTablePalindrome(S1)\n",
    "MemoTablePalindrome(S2)\n",
    "MemoTablePalindrome(S3)\n",
    "MemoTablePalindrome(S4)\n",
    "MemoTablePalindrome(S5)\n",
    "MemoTablePalindrome(S6)"
   ]
  },
  {
   "cell_type": "code",
   "execution_count": null,
   "metadata": {},
   "outputs": [],
   "source": []
  }
 ],
 "metadata": {
  "kernelspec": {
   "display_name": "Python 3",
   "language": "python",
   "name": "python3"
  },
  "language_info": {
   "codemirror_mode": {
    "name": "ipython",
    "version": 3
   },
   "file_extension": ".py",
   "mimetype": "text/x-python",
   "name": "python",
   "nbconvert_exporter": "python",
   "pygments_lexer": "ipython3",
   "version": "3.9.13"
  },
  "orig_nbformat": 4,
  "vscode": {
   "interpreter": {
    "hash": "397704579725e15f5c7cb49fe5f0341eb7531c82d19f2c29d197e8b64ab5776b"
   }
  }
 },
 "nbformat": 4,
 "nbformat_minor": 2
}
