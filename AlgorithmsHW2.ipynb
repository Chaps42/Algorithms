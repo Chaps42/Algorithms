{
 "cells": [
  {
   "cell_type": "code",
   "execution_count": 2,
   "metadata": {},
   "outputs": [],
   "source": [
    "import numpy as np\n",
    "\n"
   ]
  },
  {
   "cell_type": "code",
   "execution_count": null,
   "metadata": {},
   "outputs": [],
   "source": [
    "def FindCombos(A,B,C):\n",
    "    count = 0\n",
    "    for a in A:\n",
    "        for b in B:\n",
    "            for c in C:\n",
    "\n",
    "    "
   ]
  },
  {
   "cell_type": "code",
   "execution_count": 27,
   "metadata": {},
   "outputs": [
    {
     "name": "stdout",
     "output_type": "stream",
     "text": [
      "[ 1.00000000e+00  1.00000000e+00  1.00000000e+00  3.00000000e+00\n",
      "  3.00000000e+00  1.00000000e+00  3.00000000e+00  3.00000000e+00\n",
      " -6.29126381e-17  1.00000000e+00  1.00000000e+00 -1.81336427e-16\n",
      "  0.00000000e+00  0.00000000e+00  5.92118946e-17]\n"
     ]
    }
   ],
   "source": [
    "\n",
    "a = [1,0,1,1,0,0,0,0,0,0,0,0,0,0,0]\n",
    "b = [1,0,0,1,0,0,0,0,0,0,0,0,0,0,0]\n",
    "c = [1,0,0,1,1,0,0,0,0,0,0,0,0,0,0]\n",
    "\n",
    "A = np.fft.fft(a)\n",
    "B = np.fft.fft(b)\n",
    "C = np.fft.fft(c)\n",
    "\n",
    "#print(A,B,C)\n",
    "L = A*B*-C\n",
    "Combos = np.fft.ifft(L)\n",
    "#print((np.real(Combos)))\n",
    "\n",
    "\n",
    "#   [0,1,2,3,4]\n",
    "d = [1,0,1,1,0,0,0,0,0,0,0,0,0,0,0]\n",
    "e = [1,0,0,1,0,0,0,0,0,0,0,0,0,0,0]\n",
    "f = [1,0,0,1,1,0,0,0,0,0,0,0,0,0,0]\n",
    "\n",
    "g = [1,1,0,0,1,0,0,0,0,0,0,0,0,0,0]\n",
    "\n",
    "D = np.fft.fft(d)\n",
    "E = np.fft.fft(e)\n",
    "F = np.fft.fft(g)\n",
    "\n",
    "M = D*E*F\n",
    "Subtraction = np.fft.ifft(M)\n",
    "print((np.real(Subtraction)))\n",
    "\n",
    "\n",
    "\n"
   ]
  },
  {
   "cell_type": "code",
   "execution_count": null,
   "metadata": {},
   "outputs": [],
   "source": []
  }
 ],
 "metadata": {
  "kernelspec": {
   "display_name": "Python 3",
   "language": "python",
   "name": "python3"
  },
  "language_info": {
   "codemirror_mode": {
    "name": "ipython",
    "version": 3
   },
   "file_extension": ".py",
   "mimetype": "text/x-python",
   "name": "python",
   "nbconvert_exporter": "python",
   "pygments_lexer": "ipython3",
   "version": "3.9.6"
  },
  "orig_nbformat": 4,
  "vscode": {
   "interpreter": {
    "hash": "397704579725e15f5c7cb49fe5f0341eb7531c82d19f2c29d197e8b64ab5776b"
   }
  }
 },
 "nbformat": 4,
 "nbformat_minor": 2
}
