{
 "cells": [
  {
   "cell_type": "code",
   "execution_count": 1,
   "metadata": {},
   "outputs": [],
   "source": [
    "import numpy as np\n"
   ]
  },
  {
   "cell_type": "code",
   "execution_count": 3,
   "metadata": {},
   "outputs": [
    {
     "name": "stdout",
     "output_type": "stream",
     "text": [
      "[ 1.0000000e+01+0.00000000e+00j  0.0000000e+00+0.00000000e+00j\n",
      " -4.4408921e-16+0.00000000e+00j  0.0000000e+00+0.00000000e+00j\n",
      "  4.4408921e-16-2.22044605e-16j  0.0000000e+00+0.00000000e+00j\n",
      "  0.0000000e+00+0.00000000e+00j  0.0000000e+00+0.00000000e+00j\n",
      "  0.0000000e+00+2.76434240e-16j  0.0000000e+00+0.00000000e+00j\n",
      "  1.0000000e+01+1.42561412e-16j  0.0000000e+00+0.00000000e+00j\n",
      "  0.0000000e+00+0.00000000e+00j  0.0000000e+00+0.00000000e+00j\n",
      "  0.0000000e+00+2.49260599e-17j  0.0000000e+00+0.00000000e+00j\n",
      "  0.0000000e+00+3.10152403e-16j  0.0000000e+00+0.00000000e+00j\n",
      "  0.0000000e+00+0.00000000e+00j  0.0000000e+00+0.00000000e+00j\n",
      "  1.0000000e+01-2.49260599e-17j  0.0000000e+00+0.00000000e+00j\n",
      "  0.0000000e+00+4.91233148e-17j  0.0000000e+00+0.00000000e+00j\n",
      "  0.0000000e+00+0.00000000e+00j  0.0000000e+00+0.00000000e+00j\n",
      "  0.0000000e+00-2.76434240e-16j  0.0000000e+00+0.00000000e+00j\n",
      "  0.0000000e+00-2.79792525e-16j  0.0000000e+00+0.00000000e+00j]\n"
     ]
    }
   ],
   "source": [
    "\n",
    "\n",
    "\n",
    "Series = [1,0,0,1,0,0,1,0,0,1,0,0,1,0,0,1,0,0,1,0,0,1,0,0,1,0,0,1,0,0]\n",
    "\n",
    "print(np.fft.fft(Series))"
   ]
  },
  {
   "cell_type": "code",
   "execution_count": 22,
   "metadata": {},
   "outputs": [],
   "source": [
    "def partition(A,pivot):\n",
    "    i = -1 #i is the same as j because the partitions are empty at the beggining\n",
    "    j = -1 #We want to look at first element j+1, need to start at -1 to accomodate 0\n",
    "    n = len(A)\n",
    "    while j<n-1:\n",
    "        if A[j+1]<pivot: #While Less than pivot, go into first partition\n",
    "            A[i+1], A[j+1] = A[j+1], A[i+1]\n",
    "            i = i+1\n",
    "            j = j+1\n",
    "            print(\"Go to I partition\")\n",
    "            print(\"i = %s, j = %s\" %(i,j))\n",
    "            print(A)\n",
    "        else: #While Greater than or equal to pivot add to second partition\n",
    "            j = j+1 #We know j+1 belongs to j, just move j up\n",
    "            print(\"Go to J partition\")\n",
    "            print(\"i = %s, j = %s\" %(i,j))\n",
    "            print(A)\n",
    "\n",
    "    return A,i+1"
   ]
  },
  {
   "cell_type": "code",
   "execution_count": 23,
   "metadata": {},
   "outputs": [
    {
     "name": "stdout",
     "output_type": "stream",
     "text": [
      "Go to I partition\n",
      "i = 0, j = 0\n",
      "[1, 5, 2, -2, 3, 4, 8, 9, 0]\n",
      "Go to J partition\n",
      "i = 0, j = 1\n",
      "[1, 5, 2, -2, 3, 4, 8, 9, 0]\n",
      "Go to I partition\n",
      "i = 1, j = 2\n",
      "[1, 2, 5, -2, 3, 4, 8, 9, 0]\n",
      "Go to I partition\n",
      "i = 2, j = 3\n",
      "[1, 2, -2, 5, 3, 4, 8, 9, 0]\n",
      "Go to I partition\n",
      "i = 3, j = 4\n",
      "[1, 2, -2, 3, 5, 4, 8, 9, 0]\n",
      "Go to I partition\n",
      "i = 4, j = 5\n",
      "[1, 2, -2, 3, 4, 5, 8, 9, 0]\n",
      "Go to J partition\n",
      "i = 4, j = 6\n",
      "[1, 2, -2, 3, 4, 5, 8, 9, 0]\n",
      "Go to J partition\n",
      "i = 4, j = 7\n",
      "[1, 2, -2, 3, 4, 5, 8, 9, 0]\n",
      "Go to I partition\n",
      "i = 5, j = 8\n",
      "[1, 2, -2, 3, 4, 0, 8, 9, 5]\n",
      "Array = [1, 2, -2, 3, 4, 0, 8, 9, 5]\n",
      "Index = 6\n"
     ]
    }
   ],
   "source": [
    "Array = [1,5,2,-2,3,4,8,9,0]\n",
    "pivot = 5\n",
    "Sorted,index = partition(Array,pivot)\n",
    "print(\"Array = %s\" %Sorted)\n",
    "print(\"Index = %s\" %index)"
   ]
  },
  {
   "cell_type": "code",
   "execution_count": 24,
   "metadata": {},
   "outputs": [
    {
     "name": "stdout",
     "output_type": "stream",
     "text": [
      "Go to I partition\n",
      "i = 0, j = 0\n",
      "[-1, -2, -3, 4, 6, 1, 2, 3, 4, 5]\n",
      "Go to I partition\n",
      "i = 1, j = 1\n",
      "[-1, -2, -3, 4, 6, 1, 2, 3, 4, 5]\n",
      "Go to I partition\n",
      "i = 2, j = 2\n",
      "[-1, -2, -3, 4, 6, 1, 2, 3, 4, 5]\n",
      "Go to I partition\n",
      "i = 3, j = 3\n",
      "[-1, -2, -3, 4, 6, 1, 2, 3, 4, 5]\n",
      "Go to J partition\n",
      "i = 3, j = 4\n",
      "[-1, -2, -3, 4, 6, 1, 2, 3, 4, 5]\n",
      "Go to I partition\n",
      "i = 4, j = 5\n",
      "[-1, -2, -3, 4, 1, 6, 2, 3, 4, 5]\n",
      "Go to I partition\n",
      "i = 5, j = 6\n",
      "[-1, -2, -3, 4, 1, 2, 6, 3, 4, 5]\n",
      "Go to I partition\n",
      "i = 6, j = 7\n",
      "[-1, -2, -3, 4, 1, 2, 3, 6, 4, 5]\n",
      "Go to I partition\n",
      "i = 7, j = 8\n",
      "[-1, -2, -3, 4, 1, 2, 3, 4, 6, 5]\n",
      "Go to J partition\n",
      "i = 7, j = 9\n",
      "[-1, -2, -3, 4, 1, 2, 3, 4, 6, 5]\n",
      "Array = [-1, -2, -3, 4, 1, 2, 3, 4, 6, 5]\n",
      "Index = 8\n"
     ]
    }
   ],
   "source": [
    "Array = [-1,-2,-3,4,6,1,2,3,4,5]\n",
    "pivot = 5\n",
    "Sorted,index = partition(Array,pivot)\n",
    "print(\"Array = %s\" %Sorted)\n",
    "print(\"Index = %s\" %index)"
   ]
  },
  {
   "cell_type": "code",
   "execution_count": null,
   "metadata": {},
   "outputs": [],
   "source": []
  }
 ],
 "metadata": {
  "kernelspec": {
   "display_name": "Python 3",
   "language": "python",
   "name": "python3"
  },
  "language_info": {
   "codemirror_mode": {
    "name": "ipython",
    "version": 3
   },
   "file_extension": ".py",
   "mimetype": "text/x-python",
   "name": "python",
   "nbconvert_exporter": "python",
   "pygments_lexer": "ipython3",
   "version": "3.9.13"
  },
  "orig_nbformat": 4,
  "vscode": {
   "interpreter": {
    "hash": "397704579725e15f5c7cb49fe5f0341eb7531c82d19f2c29d197e8b64ab5776b"
   }
  }
 },
 "nbformat": 4,
 "nbformat_minor": 2
}
