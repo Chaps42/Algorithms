{
 "cells": [
  {
   "cell_type": "code",
   "execution_count": 1,
   "metadata": {},
   "outputs": [],
   "source": [
    "import numpy as np\n"
   ]
  },
  {
   "cell_type": "code",
   "execution_count": 26,
   "metadata": {},
   "outputs": [
    {
     "name": "stdout",
     "output_type": "stream",
     "text": [
      "11.0\n",
      "[ 1.10000000e+01+0.00000000e+00j  6.66133815e-16-5.55111512e-17j\n",
      "  4.44089210e-16+0.00000000e+00j  0.00000000e+00+0.00000000e+00j\n",
      " -2.22044605e-16-5.80444748e-17j -1.66533454e-16+3.53604819e-17j\n",
      "  0.00000000e+00+0.00000000e+00j -4.44089210e-16+3.61920075e-17j\n",
      "  2.22044605e-16-1.18198826e-16j  0.00000000e+00+0.00000000e+00j\n",
      "  1.11022302e-16+4.73901132e-16j  1.10000000e+01-5.96607398e-17j\n",
      "  0.00000000e+00+0.00000000e+00j  0.00000000e+00-5.32362732e-18j\n",
      " -4.44089210e-16+2.31124590e-16j  5.55111512e-17+0.00000000e+00j\n",
      " -2.91433544e-16-1.54001713e-16j -3.60822483e-16+4.68062784e-18j\n",
      "  5.55111512e-17+0.00000000e+00j  1.52655666e-16+1.33262358e-17j\n",
      "  8.32667268e-17+3.95165419e-16j  0.00000000e+00+0.00000000e+00j\n",
      "  1.10000000e+01-6.96012498e-17j  0.00000000e+00-1.17316539e-16j\n",
      "  0.00000000e+00+0.00000000e+00j -3.33066907e-16-1.67452989e-16j\n",
      " -8.88178420e-16-1.21789256e-16j  0.00000000e+00+0.00000000e+00j\n",
      "  4.44089210e-16+9.34161644e-17j  2.22044605e-16-1.19450130e-16j\n",
      "  0.00000000e+00+0.00000000e+00j  0.00000000e+00-1.06900334e-16j\n",
      "  1.66533454e-16-1.29915628e-16j]\n"
     ]
    }
   ],
   "source": [
    "\n",
    "\n",
    "\n",
    "Series = [1,0,0,1,0,0,1,0,0,1,0,0,1,0,0,1,0,0,1,0,0,1,0,0,1,0,0,1,0,0,1,0,0]\n",
    "print(len(Series)/3)\n",
    "\n",
    "print(np.fft.fft(Series))"
   ]
  },
  {
   "cell_type": "code",
   "execution_count": 22,
   "metadata": {},
   "outputs": [],
   "source": [
    "def partition(A,pivot):\n",
    "    i = -1 #i is the same as j because the partitions are empty at the beggining\n",
    "    j = -1 #We want to look at first element j+1, need to start at -1 to accomodate 0\n",
    "    n = len(A)\n",
    "    while j<n-1:\n",
    "        if A[j+1]<pivot: #While Less than pivot, go into first partition\n",
    "            A[i+1], A[j+1] = A[j+1], A[i+1]\n",
    "            i = i+1\n",
    "            j = j+1\n",
    "            print(\"Go to I partition\")\n",
    "            print(\"i = %s, j = %s\" %(i,j))\n",
    "            print(A)\n",
    "        else: #While Greater than or equal to pivot add to second partition\n",
    "            j = j+1 #We know j+1 belongs to j, just move j up\n",
    "            print(\"Go to J partition\")\n",
    "            print(\"i = %s, j = %s\" %(i,j))\n",
    "            print(A)\n",
    "\n",
    "    return A,i+1"
   ]
  },
  {
   "cell_type": "code",
   "execution_count": 23,
   "metadata": {},
   "outputs": [
    {
     "name": "stdout",
     "output_type": "stream",
     "text": [
      "Go to I partition\n",
      "i = 0, j = 0\n",
      "[1, 5, 2, -2, 3, 4, 8, 9, 0]\n",
      "Go to J partition\n",
      "i = 0, j = 1\n",
      "[1, 5, 2, -2, 3, 4, 8, 9, 0]\n",
      "Go to I partition\n",
      "i = 1, j = 2\n",
      "[1, 2, 5, -2, 3, 4, 8, 9, 0]\n",
      "Go to I partition\n",
      "i = 2, j = 3\n",
      "[1, 2, -2, 5, 3, 4, 8, 9, 0]\n",
      "Go to I partition\n",
      "i = 3, j = 4\n",
      "[1, 2, -2, 3, 5, 4, 8, 9, 0]\n",
      "Go to I partition\n",
      "i = 4, j = 5\n",
      "[1, 2, -2, 3, 4, 5, 8, 9, 0]\n",
      "Go to J partition\n",
      "i = 4, j = 6\n",
      "[1, 2, -2, 3, 4, 5, 8, 9, 0]\n",
      "Go to J partition\n",
      "i = 4, j = 7\n",
      "[1, 2, -2, 3, 4, 5, 8, 9, 0]\n",
      "Go to I partition\n",
      "i = 5, j = 8\n",
      "[1, 2, -2, 3, 4, 0, 8, 9, 5]\n",
      "Array = [1, 2, -2, 3, 4, 0, 8, 9, 5]\n",
      "Index = 6\n"
     ]
    }
   ],
   "source": [
    "Array = [1,5,2,-2,3,4,8,9,0]\n",
    "pivot = 5\n",
    "Sorted,index = partition(Array,pivot)\n",
    "print(\"Array = %s\" %Sorted)\n",
    "print(\"Index = %s\" %index)"
   ]
  },
  {
   "cell_type": "code",
   "execution_count": 24,
   "metadata": {},
   "outputs": [
    {
     "name": "stdout",
     "output_type": "stream",
     "text": [
      "Go to I partition\n",
      "i = 0, j = 0\n",
      "[-1, -2, -3, 4, 6, 1, 2, 3, 4, 5]\n",
      "Go to I partition\n",
      "i = 1, j = 1\n",
      "[-1, -2, -3, 4, 6, 1, 2, 3, 4, 5]\n",
      "Go to I partition\n",
      "i = 2, j = 2\n",
      "[-1, -2, -3, 4, 6, 1, 2, 3, 4, 5]\n",
      "Go to I partition\n",
      "i = 3, j = 3\n",
      "[-1, -2, -3, 4, 6, 1, 2, 3, 4, 5]\n",
      "Go to J partition\n",
      "i = 3, j = 4\n",
      "[-1, -2, -3, 4, 6, 1, 2, 3, 4, 5]\n",
      "Go to I partition\n",
      "i = 4, j = 5\n",
      "[-1, -2, -3, 4, 1, 6, 2, 3, 4, 5]\n",
      "Go to I partition\n",
      "i = 5, j = 6\n",
      "[-1, -2, -3, 4, 1, 2, 6, 3, 4, 5]\n",
      "Go to I partition\n",
      "i = 6, j = 7\n",
      "[-1, -2, -3, 4, 1, 2, 3, 6, 4, 5]\n",
      "Go to I partition\n",
      "i = 7, j = 8\n",
      "[-1, -2, -3, 4, 1, 2, 3, 4, 6, 5]\n",
      "Go to J partition\n",
      "i = 7, j = 9\n",
      "[-1, -2, -3, 4, 1, 2, 3, 4, 6, 5]\n",
      "Array = [-1, -2, -3, 4, 1, 2, 3, 4, 6, 5]\n",
      "Index = 8\n"
     ]
    }
   ],
   "source": [
    "Array = [-1,-2,-3,4,6,1,2,3,4,5]\n",
    "pivot = 5\n",
    "Sorted,index = partition(Array,pivot)\n",
    "print(\"Array = %s\" %Sorted)\n",
    "print(\"Index = %s\" %index)"
   ]
  },
  {
   "cell_type": "code",
   "execution_count": null,
   "metadata": {},
   "outputs": [],
   "source": []
  }
 ],
 "metadata": {
  "kernelspec": {
   "display_name": "Python 3",
   "language": "python",
   "name": "python3"
  },
  "language_info": {
   "codemirror_mode": {
    "name": "ipython",
    "version": 3
   },
   "file_extension": ".py",
   "mimetype": "text/x-python",
   "name": "python",
   "nbconvert_exporter": "python",
   "pygments_lexer": "ipython3",
   "version": "3.9.13"
  },
  "orig_nbformat": 4,
  "vscode": {
   "interpreter": {
    "hash": "397704579725e15f5c7cb49fe5f0341eb7531c82d19f2c29d197e8b64ab5776b"
   }
  }
 },
 "nbformat": 4,
 "nbformat_minor": 2
}
