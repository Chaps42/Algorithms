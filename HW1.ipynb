{
 "cells": [
  {
   "cell_type": "code",
   "execution_count": 1,
   "metadata": {},
   "outputs": [
    {
     "data": {
      "text/plain": [
       "1"
      ]
     },
     "execution_count": 1,
     "metadata": {},
     "output_type": "execute_result"
    }
   ],
   "source": [
    "7//6"
   ]
  },
  {
   "cell_type": "code",
   "execution_count": 2,
   "metadata": {},
   "outputs": [
    {
     "data": {
      "text/plain": [
       "1"
      ]
     },
     "execution_count": 2,
     "metadata": {},
     "output_type": "execute_result"
    }
   ],
   "source": [
    "6//6"
   ]
  },
  {
   "cell_type": "code",
   "execution_count": 8,
   "metadata": {},
   "outputs": [
    {
     "name": "stdout",
     "output_type": "stream",
     "text": [
      "0 0 0 6\n",
      "1 0 0 6\n",
      "2 0 0 6\n",
      "3 0 0 6\n",
      "4 0 0 6\n",
      "5 0 0 6\n",
      "6 1 6 12\n",
      "7 1 6 12\n",
      "8 1 6 12\n",
      "9 1 6 12\n",
      "10 1 6 12\n",
      "11 1 6 12\n",
      "12 2 12 18\n",
      "13 2 12 18\n",
      "14 2 12 18\n",
      "15 2 12 18\n",
      "16 2 12 18\n",
      "17 2 12 18\n",
      "18 3 18 24\n",
      "19 3 18 24\n",
      "20 3 18 24\n",
      "21 3 18 24\n",
      "22 3 18 24\n",
      "23 3 18 24\n",
      "24 4 24 30\n",
      "25 4 24 30\n"
     ]
    }
   ],
   "source": [
    "for i in range(26):\n",
    "    print(i, i//6, 6*(i//6),6*(i//6)+6)"
   ]
  },
  {
   "cell_type": "code",
   "execution_count": null,
   "metadata": {},
   "outputs": [],
   "source": []
  }
 ],
 "metadata": {
  "kernelspec": {
   "display_name": "Python 3",
   "language": "python",
   "name": "python3"
  },
  "language_info": {
   "codemirror_mode": {
    "name": "ipython",
    "version": 3
   },
   "file_extension": ".py",
   "mimetype": "text/x-python",
   "name": "python",
   "nbconvert_exporter": "python",
   "pygments_lexer": "ipython3",
   "version": "3.9.6 (v3.9.6:db3ff76da1, Jun 28 2021, 11:49:53) \n[Clang 6.0 (clang-600.0.57)]"
  },
  "orig_nbformat": 4,
  "vscode": {
   "interpreter": {
    "hash": "397704579725e15f5c7cb49fe5f0341eb7531c82d19f2c29d197e8b64ab5776b"
   }
  }
 },
 "nbformat": 4,
 "nbformat_minor": 2
}
