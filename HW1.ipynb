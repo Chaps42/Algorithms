{
 "cells": [
  {
   "cell_type": "code",
   "execution_count": 3,
   "metadata": {},
   "outputs": [
    {
     "name": "stdout",
     "output_type": "stream",
     "text": [
      "(1, 572234785, -3517)\n",
      "1\n",
      "2087437091\n"
     ]
    }
   ],
   "source": [
    "def GCDE(a0:int,b0:int):\n",
    "    a,b = a0,b0\n",
    "    s,t = 1,0\n",
    "    sp,tp = 0,1\n",
    "    while(b>0):\n",
    "        q,r = a//b,a%b\n",
    "        a,b = b,r\n",
    "        s,t,sp,tp = sp,tp,s-q*sp,t-q*tp\n",
    "    return a,s,t\n",
    "\n",
    "n = 13113\n",
    "p = 2133555512\n",
    "#n = 13\n",
    "#p = 17\n",
    "\n",
    "GCD,s,t = GCDE(n,p)\n",
    "print(GCDE(n,p))\n",
    "print((s*n)%p)\n",
    "print((t*n)%p)"
   ]
  },
  {
   "cell_type": "code",
   "execution_count": null,
   "metadata": {},
   "outputs": [],
   "source": []
  }
 ],
 "metadata": {
  "kernelspec": {
   "display_name": "Python 3",
   "language": "python",
   "name": "python3"
  },
  "language_info": {
   "codemirror_mode": {
    "name": "ipython",
    "version": 3
   },
   "file_extension": ".py",
   "mimetype": "text/x-python",
   "name": "python",
   "nbconvert_exporter": "python",
   "pygments_lexer": "ipython3",
   "version": "3.11.1"
  },
  "orig_nbformat": 4,
  "vscode": {
   "interpreter": {
    "hash": "eb61df42a62e9ba77dc5322e9143e78270e5c3a6d4a86b91167a1c721a6e9926"
   }
  }
 },
 "nbformat": 4,
 "nbformat_minor": 2
}
